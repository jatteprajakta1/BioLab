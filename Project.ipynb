{
 "cells": [
  {
   "cell_type": "code",
   "execution_count": null,
   "id": "3415dda1",
   "metadata": {
    "pycharm": {
     "is_executing": true,
     "name": "#%%\n"
    }
   },
   "outputs": [],
   "source": [
    "import pandas as pd\n",
    "import numpy as np\n",
    "import matplotlib.pyplot as plt\n",
    "import seaborn as sns\n",
    "import warnings\n",
    "warnings.filterwarnings('ignore')"
   ]
  },
  {
   "cell_type": "code",
   "execution_count": null,
   "id": "bdd21b4c",
   "metadata": {
    "pycharm": {
     "name": "#%%\n"
    }
   },
   "outputs": [],
   "source": [
    "Final = pd.read_excel(\"C:/Users/jatte/OneDrive/Desktop/New folder (2)/final_data.xlsx\")"
   ]
  },
  {
   "cell_type": "code",
   "execution_count": null,
   "id": "6169d6be",
   "metadata": {
    "pycharm": {
     "name": "#%%\n"
    }
   },
   "outputs": [],
   "source": [
    "Final.columns"
   ]
  },
  {
   "cell_type": "code",
   "execution_count": null,
   "id": "1445da77",
   "metadata": {
    "pycharm": {
     "name": "#%%\n"
    }
   },
   "outputs": [],
   "source": [
    "Final.info()"
   ]
  },
  {
   "cell_type": "code",
   "execution_count": null,
   "id": "1ed64927",
   "metadata": {
    "pycharm": {
     "name": "#%%\n"
    }
   },
   "outputs": [],
   "source": [
    "Final.isnull().sum()"
   ]
  },
  {
   "cell_type": "code",
   "execution_count": null,
   "id": "deb9f1f1",
   "metadata": {
    "pycharm": {
     "is_executing": true,
     "name": "#%%\n"
    }
   },
   "outputs": [],
   "source": [
    "Final.duplicated().sum()"
   ]
  },
  {
   "cell_type": "code",
   "execution_count": null,
   "id": "7f9df878",
   "metadata": {
    "pycharm": {
     "is_executing": true,
     "name": "#%%\n"
    }
   },
   "outputs": [],
   "source": [
    "Final.drop(['Unnamed: 0'], axis = 1, inplace = True)"
   ]
  },
  {
   "cell_type": "code",
   "execution_count": null,
   "id": "17ff072e",
   "metadata": {
    "pycharm": {
     "name": "#%%\n"
    }
   },
   "outputs": [],
   "source": [
    "Final.columns"
   ]
  },
  {
   "cell_type": "code",
   "execution_count": null,
   "id": "d9d37bc7",
   "metadata": {
    "pycharm": {
     "name": "#%%\n"
    }
   },
   "outputs": [],
   "source": [
    "Final.rename(columns={'shortest distance Agent-Pathlab(m)' : 'Distance Agent-Pathlab', ##unit = meters\n",
    "                   'shortest distance Patient-Pathlab(m)' : 'Distance Patient-Pathlab',  ##unit = meters\n",
    "                   'shortest distance Patient-Agent(m)' : 'Distance Patient-Agent',  ##unit = meters\n",
    "                   'Availabilty time (Patient)' : 'Patient Availabilty',  ##range format\n",
    "                   'Test Booking Date' : 'Booking Date',  \n",
    "                   'Test Booking Time HH:MM' : 'Booking Time',\n",
    "                   'Way Of Storage Of Sample' : 'Specimen Storage',\n",
    "                   ' Time For Sample Collection MM' : 'Specimen collection Time',\n",
    "                   'Time Agent-Pathlab sec' : 'Agent-Pathlab sec',\n",
    "                   'Agent Arrival Time (range) HH:MM' : 'Agent Arrival Time',\n",
    "                   'Exact Arrival Time MM' : 'Exact Arrival Time'   ##output time\n",
    "                  }, inplace=True)"
   ]
  },
  {
   "cell_type": "code",
   "execution_count": null,
   "id": "b1d97dbf",
   "metadata": {
    "pycharm": {
     "name": "#%%\n"
    }
   },
   "outputs": [],
   "source": [
    "#Plots:\n",
    "sns.distplot(Final['Exact Arrival Time'])"
   ]
  },
  {
   "cell_type": "code",
   "execution_count": null,
   "id": "66499339",
   "metadata": {
    "pycharm": {
     "name": "#%%\n"
    }
   },
   "outputs": [],
   "source": [
    "categ_columns = Final[['patient location', 'Diagnostic Centers', 'Time slot', 'Patient Availabilty', 'Gender', \n",
    "                          'Booking Date', 'Specimen Storage', 'Sample Collection Date', 'Agent Arrival Time']]\n",
    "ID_columns = Final[['Patient ID', 'Agent ID', 'pincode']]\n",
    "num_columns = Final[['Age', 'Distance Agent-Pathlab', 'Distance Patient-Pathlab', 'Distance Patient-Agent', \n",
    "                        'Specimen collection Time' , 'Agent-Pathlab sec', 'Exact Arrival Time']]\n",
    "num_columns.info()\n",
    "categ_columns.head()"
   ]
  },
  {
   "cell_type": "code",
   "execution_count": null,
   "id": "24029b56",
   "metadata": {
    "pycharm": {
     "name": "#%%\n"
    }
   },
   "outputs": [],
   "source": [
    "list(categ_columns['Diagnostic Centers'].unique())"
   ]
  },
  {
   "cell_type": "code",
   "execution_count": null,
   "id": "a45085f9",
   "metadata": {
    "pycharm": {
     "name": "#%%\n"
    }
   },
   "outputs": [],
   "source": [
    "categ_columns['Diagnostic Centers'].value_counts().plot(kind = 'bar')"
   ]
  },
  {
   "cell_type": "code",
   "execution_count": null,
   "id": "56cce8dd",
   "metadata": {
    "pycharm": {
     "name": "#%%\n"
    }
   },
   "outputs": [],
   "source": [
    "def name_change(text):\n",
    "    if text == 'Medquest Diagnostics Center' or text == 'Medquest Diagnostics':\n",
    "        return 'Medquest Diagnostics Center'\n",
    "    elif text == 'Pronto Diagnostics' or text == 'Pronto Diagnostics Center':\n",
    "        return 'Pronto Diagnostics Center'\n",
    "    elif text == 'Vijaya Diagonstic Center' or text == 'Vijaya Diagnostic Center':\n",
    "        return 'Vijaya Diagnostic Center'\n",
    "    elif text == 'Viva Diagnostic' or text == 'Vivaa Diagnostic Center':\n",
    "        return 'Vivaa Diagnostic Center'\n",
    "    else:\n",
    "        return text\n",
    "\n",
    "categ_columns['Diagnostic Centers'] = categ_columns['Diagnostic Centers'].apply(name_change) "
   ]
  },
  {
   "cell_type": "code",
   "execution_count": null,
   "id": "f8d8458a",
   "metadata": {
    "pycharm": {
     "name": "#%%\n"
    }
   },
   "outputs": [],
   "source": [
    "categ_columns['Diagnostic Centers'].value_counts().plot(kind = 'bar')"
   ]
  },
  {
   "cell_type": "code",
   "execution_count": null,
   "id": "b552c1a8",
   "metadata": {
    "pycharm": {
     "name": "#%%\n"
    }
   },
   "outputs": [],
   "source": [
    "categ_columns['Time slot'].value_counts().plot(kind = 'bar')"
   ]
  },
  {
   "cell_type": "code",
   "execution_count": null,
   "id": "a87e919e",
   "metadata": {
    "pycharm": {
     "name": "#%%\n"
    }
   },
   "outputs": [],
   "source": [
    "categ_columns['Specimen Storage'].value_counts().plot(kind = 'bar')"
   ]
  },
  {
   "cell_type": "code",
   "execution_count": null,
   "id": "d44d5e73",
   "metadata": {
    "pycharm": {
     "name": "#%%\n"
    }
   },
   "outputs": [],
   "source": [
    "len(categ_columns['Patient Availabilty'].unique())"
   ]
  },
  {
   "cell_type": "code",
   "execution_count": null,
   "id": "bb715923",
   "metadata": {
    "pycharm": {
     "name": "#%%\n"
    }
   },
   "outputs": [],
   "source": [
    "categ_columns['Patient Availabilty'].value_counts().plot(kind = 'bar')"
   ]
  },
  {
   "cell_type": "code",
   "execution_count": null,
   "id": "e1d0ccce",
   "metadata": {
    "pycharm": {
     "name": "#%%\n"
    }
   },
   "outputs": [],
   "source": [
    "len(categ_columns['Agent Arrival Time'].unique())"
   ]
  },
  {
   "cell_type": "code",
   "execution_count": null,
   "id": "65e1ac41",
   "metadata": {
    "pycharm": {
     "name": "#%%\n"
    }
   },
   "outputs": [],
   "source": [
    "categ_columns['Gender'].value_counts().plot(kind = 'bar')"
   ]
  },
  {
   "cell_type": "code",
   "execution_count": null,
   "id": "865e6c95",
   "metadata": {
    "pycharm": {
     "name": "#%%\n"
    }
   },
   "outputs": [],
   "source": [
    "new_df = pd.concat([ID_columns,\n",
    "                    categ_columns[['Diagnostic Centers', 'Time slot', 'Patient Availabilty', 'Gender',\n",
    "                                         'Specimen Storage', 'Agent Arrival Time']],\n",
    "                    num_columns[['Distance Patient-Agent', 'Specimen collection Time', 'Exact Arrival Time']]\n",
    "                   ], axis = 1)\n",
    "new_df.info()"
   ]
  },
  {
   "cell_type": "code",
   "execution_count": null,
   "id": "7d1b7ef7",
   "metadata": {
    "pycharm": {
     "name": "#%%\n"
    }
   },
   "outputs": [],
   "source": [
    "final = new_df[new_df['Distance Patient-Agent'] != 0]\n",
    "final.info()"
   ]
  },
  {
   "cell_type": "code",
   "execution_count": null,
   "id": "03754b74",
   "metadata": {
    "pycharm": {
     "name": "#%%\n"
    }
   },
   "outputs": [],
   "source": [
    "sns.distplot(np.log(final['Distance Patient-Agent']))"
   ]
  },
  {
   "cell_type": "code",
   "execution_count": null,
   "id": "5be1cb1e",
   "metadata": {
    "pycharm": {
     "name": "#%%\n"
    }
   },
   "outputs": [],
   "source": [
    "for col in final.columns[:]:\n",
    "    print(col, ' : ', len(final[col].unique()), 'Unique Values')"
   ]
  },
  {
   "cell_type": "code",
   "execution_count": null,
   "id": "c3526d77",
   "metadata": {
    "pycharm": {
     "name": "#%%\n"
    }
   },
   "outputs": [],
   "source": [
    "final.describe()"
   ]
  },
  {
   "cell_type": "code",
   "execution_count": null,
   "id": "132dcc63",
   "metadata": {
    "pycharm": {
     "name": "#%%\n"
    }
   },
   "outputs": [],
   "source": [
    "final.drop(['Patient ID', 'pincode'], axis = 1, inplace = True)"
   ]
  },
  {
   "cell_type": "code",
   "execution_count": null,
   "id": "204929e6",
   "metadata": {
    "pycharm": {
     "name": "#%%\n"
    }
   },
   "outputs": [],
   "source": [
    "final['Distance Patient-Agent'] = np.log(final['Distance Patient-Agent'])"
   ]
  },
  {
   "cell_type": "code",
   "execution_count": null,
   "id": "d9cb9ec9",
   "metadata": {
    "pycharm": {
     "name": "#%%\n"
    }
   },
   "outputs": [],
   "source": [
    "final = final[final['Patient Availabilty'] != '19:00 to 22:00']"
   ]
  },
  {
   "cell_type": "code",
   "execution_count": null,
   "id": "a4318a35",
   "metadata": {
    "pycharm": {
     "name": "#%%\n"
    }
   },
   "outputs": [],
   "source": [
    "from sklearn.model_selection import train_test_split\n",
    "#from sklearn.pipeline import Pipeline\n",
    "#from sklearn.preprocessing import OneHotEncoder\n",
    "#from sklearn.compose import ColumnTransformer\n",
    "from sklearn.metrics import accuracy_score, classification_report\n",
    "\n",
    "#from sklearn.multiclass import OneVsRestClassifier\n",
    "from sklearn.linear_model import LogisticRegression, LogisticRegressionCV\n",
    "from sklearn.svm import SVC "
   ]
  },
  {
   "cell_type": "code",
   "execution_count": null,
   "id": "d14678fd",
   "metadata": {
    "pycharm": {
     "name": "#%%\n"
    }
   },
   "outputs": [],
   "source": [
    "#final['Patient Availabilty']\n"
   ]
  },
  {
   "cell_type": "code",
   "execution_count": null,
   "id": "d5cc34cb",
   "metadata": {
    "pycharm": {
     "name": "#%%\n"
    }
   },
   "outputs": [],
   "source": [
    "final['Patient Availabilty From'] = final['Patient Availabilty'].apply(lambda x:x.split(':')[0])"
   ]
  },
  {
   "cell_type": "code",
   "execution_count": null,
   "id": "10ac6cf1",
   "metadata": {
    "pycharm": {
     "name": "#%%\n"
    }
   },
   "outputs": [],
   "source": [
    "a = final['Patient Availabilty'].apply(lambda x:x.split('to')[1])\n",
    "final['Patient Availabilty To'] = a.apply(lambda x:x.split(':')[0])"
   ]
  },
  {
   "cell_type": "code",
   "execution_count": null,
   "id": "ddb0e1ca",
   "metadata": {
    "pycharm": {
     "name": "#%%\n"
    }
   },
   "outputs": [],
   "source": [
    "b = final['Agent Arrival Time'].apply(lambda x:x.split('to')[1])\n",
    "final['Agent Arrive Before'] = b.apply(lambda x:x.split(':')[0])"
   ]
  },
  {
   "cell_type": "code",
   "execution_count": null,
   "id": "6fb23f35",
   "metadata": {
    "pycharm": {
     "name": "#%%\n"
    }
   },
   "outputs": [],
   "source": [
    "final['Patient Availabilty From'] = final['Patient Availabilty From'].astype('int64')\n",
    "final['Patient Availabilty To'] = final['Patient Availabilty To'].astype('int64')\n",
    "final['Agent Arrive Before'] = final['Agent Arrive Before'].astype('int64')"
   ]
  },
  {
   "cell_type": "code",
   "execution_count": null,
   "id": "7bfe0f91",
   "metadata": {
    "pycharm": {
     "name": "#%%\n"
    }
   },
   "outputs": [],
   "source": [
    "final1 = final.drop(['Patient Availabilty', 'Agent Arrival Time', 'Diagnostic Centers'], axis = 1)"
   ]
  },
  {
   "cell_type": "code",
   "execution_count": null,
   "id": "bea915e4",
   "metadata": {
    "pycharm": {
     "name": "#%%\n"
    }
   },
   "outputs": [],
   "source": [
    "final1.head()"
   ]
  },
  {
   "cell_type": "code",
   "execution_count": null,
   "id": "b4475833",
   "metadata": {
    "pycharm": {
     "name": "#%%\n"
    }
   },
   "outputs": [],
   "source": [
    "from sklearn.preprocessing import LabelEncoder"
   ]
  },
  {
   "cell_type": "code",
   "execution_count": null,
   "id": "1a0a5c81",
   "metadata": {
    "pycharm": {
     "name": "#%%\n"
    }
   },
   "outputs": [],
   "source": [
    "le = LabelEncoder()"
   ]
  },
  {
   "cell_type": "code",
   "execution_count": null,
   "id": "50a7a226",
   "metadata": {
    "pycharm": {
     "name": "#%%\n"
    }
   },
   "outputs": [],
   "source": [
    "final1['Time slot'] = le.fit_transform(final1['Time slot'])\n",
    "final1['Gender'] = le.fit_transform(final1['Gender'])\n",
    "final1['Specimen Storage'] = le.fit_transform(final1['Specimen Storage'])"
   ]
  },
  {
   "cell_type": "code",
   "execution_count": null,
   "id": "da081ec6",
   "metadata": {
    "pycharm": {
     "name": "#%%\n"
    }
   },
   "outputs": [],
   "source": [
    "final1.head(3)"
   ]
  },
  {
   "cell_type": "code",
   "execution_count": null,
   "id": "b4ffc372",
   "metadata": {
    "pycharm": {
     "name": "#%%\n"
    }
   },
   "outputs": [],
   "source": [
    "variables = final1.drop(['Exact Arrival Time'], axis = 1)\n",
    "target = final1[['Exact Arrival Time']]"
   ]
  },
  {
   "cell_type": "code",
   "execution_count": null,
   "id": "55d3160d",
   "metadata": {
    "pycharm": {
     "name": "#%%\n"
    }
   },
   "outputs": [],
   "source": [
    "xtrain, xtest, ytrain, ytest = train_test_split(variables, target, test_size=0.3)"
   ]
  },
  {
   "cell_type": "code",
   "execution_count": null,
   "id": "4368d1f8",
   "metadata": {
    "pycharm": {
     "name": "#%%\n"
    }
   },
   "outputs": [],
   "source": [
    "lr = LogisticRegression(multi_class='ovr')\n",
    "lr.fit(xtrain, ytrain)\n",
    "ypred = lr.predict(xtest)\n",
    "print('Accruacy score: {:.4f}'.format(accuracy_score(ytest, ypred))) \n",
    "print('Classification Report: \\n', classification_report(ytest, ypred))"
   ]
  },
  {
   "cell_type": "markdown",
   "id": "4c28ebac",
   "metadata": {},
   "source": [
    "Final Model"
   ]
  },
  {
   "cell_type": "code",
   "execution_count": null,
   "id": "a221a951",
   "metadata": {
    "pycharm": {
     "name": "#%%\n"
    }
   },
   "outputs": [],
   "source": [
    "lr1 = LogisticRegression(multi_class='ovr',\n",
    "                           penalty = 'l2',\n",
    "                           solver='newton-cg',\n",
    "                           C = 16.0,\n",
    "                           fit_intercept=True,\n",
    "                           class_weight='balanced',\n",
    "                           random_state=50\n",
    "                          ) \n",
    "lr1.fit(xtrain, ytrain)\n",
    "ypred = lr1.predict(xtest)\n",
    "print('Accruacy score: {:.4f}'.format(accuracy_score(ytest, ypred))) \n",
    "print('Classification Report: \\n', classification_report(ytest, ypred))"
   ]
  },
  {
   "cell_type": "code",
   "execution_count": null,
   "id": "4901a839",
   "metadata": {
    "pycharm": {
     "name": "#%%\n"
    }
   },
   "outputs": [],
   "source": [
    "#pickle.dump(lr1, open('logistic_reg.pkl', 'wb'))\n",
    "#pickle.dump(final1, open('dataset.pkl', 'wb'))"
   ]
  },
  {
   "cell_type": "code",
   "execution_count": null,
   "id": "e6f5b930",
   "metadata": {
    "pycharm": {
     "name": "#%%\n"
    }
   },
   "outputs": [],
   "source": [
    "from haversine import haversine"
   ]
  },
  {
   "cell_type": "code",
   "execution_count": null,
   "id": "046dd022",
   "metadata": {
    "pycharm": {
     "name": "#%%\n"
    }
   },
   "outputs": [],
   "source": [
    "lat1 = float(input('latitude 1 :'))\n",
    "lon1 = float(input('longitude 1 :'))\n",
    "lat2 = float(input('latitude 2 :'))\n",
    "lon2 = float(input('longitude 2 :'))\n",
    "\n",
    "loc1 = (lat1, lon1)\n",
    "loc2 = (lat2, lon2)\n",
    "distance = haversine(loc1, loc2, unit='m')\n",
    "print(int(distance))"
   ]
  },
  {
   "cell_type": "code",
   "execution_count": null,
   "id": "8346372a",
   "metadata": {
    "pycharm": {
     "name": "#%%\n"
    }
   },
   "outputs": [],
   "source": []
  },
  {
   "cell_type": "code",
   "execution_count": null,
   "id": "de698f74",
   "metadata": {
    "pycharm": {
     "name": "#%%\n"
    }
   },
   "outputs": [],
   "source": []
  },
  {
   "cell_type": "code",
   "execution_count": null,
   "id": "d8533279",
   "metadata": {
    "pycharm": {
     "name": "#%%\n"
    }
   },
   "outputs": [],
   "source": []
  }
 ],
 "metadata": {
  "kernelspec": {
   "display_name": "Python 3.10.0 64-bit",
   "language": "python",
   "name": "python3"
  },
  "language_info": {
   "codemirror_mode": {
    "name": "ipython",
    "version": 3
   },
   "file_extension": ".py",
   "mimetype": "text/x-python",
   "name": "python",
   "nbconvert_exporter": "python",
   "pygments_lexer": "ipython3",
   "version": "3.10.0"
  },
  "vscode": {
   "interpreter": {
    "hash": "fd409aa4bbb3c7af0a9746bc7a8ee4603c5c8ff6e84770239c4e35cc4bf7ea57"
   }
  }
 },
 "nbformat": 4,
 "nbformat_minor": 5
}
